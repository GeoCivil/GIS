{
 "cells": [
  {
   "cell_type": "code",
   "execution_count": null,
   "id": "04be662e-9a29-4403-ae31-3b41391f24ad",
   "metadata": {},
   "outputs": [],
   "source": [
    "import folium\n",
    "from folium import plugins\n",
    "import pandas as pd\n",
    "import numpy as np\n",
    "import geopandas as gpd\n",
    "import pyproj"
   ]
  },
  {
   "cell_type": "code",
   "execution_count": null,
   "id": "b1805f0d-af6a-4567-9b13-b87218e616ab",
   "metadata": {},
   "outputs": [],
   "source": [
    "UTL = gpd.read_file('SDSC_utilities_20220127.gdb', layer = 1).set_crs('epsg:9300')\n",
    "plan = gpd.read_file('basemap.dxf').set_crs('epsg:9300')\n",
    "euston = gpd.read_file('euston_outline.dxf').set_crs('epsg:9300')"
   ]
  },
  {
   "cell_type": "code",
   "execution_count": null,
   "id": "e518e55b-14ef-44eb-88f8-85cafb0ca4d6",
   "metadata": {},
   "outputs": [],
   "source": [
    "#UTL['pcode'].unique()"
   ]
  },
  {
   "cell_type": "code",
   "execution_count": null,
   "id": "71b0ce37-d245-4a7a-b21a-827498d918bc",
   "metadata": {},
   "outputs": [],
   "source": [
    "comms = UTL[(UTL['pcode'] == 'Communication')]\n",
    "electricity = UTL[(UTL['pcode'] == 'Electricity')]\n",
    "gas = UTL[(UTL['pcode'] == 'Gas')]\n",
    "water = UTL[(UTL['pcode'] == 'Water')]\n",
    "sewer = UTL[(UTL['pcode'] == 'Sewer')]\n",
    "unknown = UTL[(UTL['pcode'] == '-')]"
   ]
  },
  {
   "cell_type": "code",
   "execution_count": null,
   "id": "abf263a5-3a46-4a59-8d84-7385f52d407f",
   "metadata": {},
   "outputs": [],
   "source": [
    "#Creates base map for plotting data (CRS=ESPG3857 default)\n",
    "map_base = folium.Map(location=[51.5091, -0.16006], max_zoom = 22, zoom_start = 17, tiles = None,)\n",
    "\n",
    "draw = plugins.Draw(export=False, filename='data.geojson', position='topleft', draw_options=None, edit_options=None)\n",
    "map_base.add_child(draw)\n",
    "\n",
    "measure = plugins.MeasureControl(position='topright', primary_length_unit='meters', secondary_length_unit='miles', primary_area_unit='acres', secondary_area_unit='sqcentimeters')\n",
    "map_base.add_child(measure)\n",
    "\n",
    "fullscreen = plugins.Fullscreen(position='topright', title='Full Screen', title_cancel='Exit Full Screen', force_separate_button=False)\n",
    "map_base.add_child(fullscreen)\n",
    "\n",
    "position = plugins.MousePosition()\n",
    "map_base.add_child(position)\n",
    "\n",
    "plan.explore(m = map_base, name = 'OS base map', marker_type = 'circle', marker_kwds={'radius': 1}, style_kwds={'color': 'grey','fill': False},)\n",
    "euston.explore(m = map_base, name = 'Euston Outline', marker_type = 'circle', marker_kwds={'radius': 1}, style_kwds={'color': 'black','fill': False},)\n",
    "comms.explore(m = map_base, name = 'Comms', highlight = True, show = False, style_kwds={'color': 'yellow','fill': False},)\n",
    "electricity.explore(m = map_base, name = 'Electricity', highlight = True, show = False, style_kwds={'color': 'red','fill': False},)\n",
    "gas.explore(m = map_base, name = 'Gas', highlight = True, show = False, style_kwds={'color': 'green','fill': False},)\n",
    "water.explore(m = map_base, name = 'Water', highlight = True, show = False, style_kwds={'color': 'blue','fill': False},)\n",
    "sewer.explore(m = map_base, name = 'Sewer', highlight = True, show = False, style_kwds={'color': 'brown','fill': False},)\n",
    "unknown.explore(m = map_base, name = 'Unknown', highlight = True, show = False, style_kwds={'color': 'pink','fill': False},)\n",
    "\n",
    "map_base.crs"
   ]
  },
  {
   "cell_type": "code",
   "execution_count": null,
   "id": "24513370-84b9-41bc-8f9c-4469c69112fa",
   "metadata": {},
   "outputs": [],
   "source": [
    "folium.LayerControl().add_to(map_base)\n",
    "map_base"
   ]
  },
  {
   "cell_type": "code",
   "execution_count": null,
   "id": "d6788e6a-0490-44af-9e8e-c5c23571a5bc",
   "metadata": {},
   "outputs": [],
   "source": []
  }
 ],
 "metadata": {
  "kernelspec": {
   "display_name": "Python 3 (ipykernel)",
   "language": "python",
   "name": "python3"
  },
  "language_info": {
   "codemirror_mode": {
    "name": "ipython",
    "version": 3
   },
   "file_extension": ".py",
   "mimetype": "text/x-python",
   "name": "python",
   "nbconvert_exporter": "python",
   "pygments_lexer": "ipython3",
   "version": "3.10.0"
  }
 },
 "nbformat": 4,
 "nbformat_minor": 5
}
